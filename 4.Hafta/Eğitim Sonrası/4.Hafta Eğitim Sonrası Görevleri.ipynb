{
 "cells": [
  {
   "cell_type": "markdown",
   "metadata": {},
   "source": [
    "# Problem 1\n",
    "`ogrenciler` adında bir sözlük oluşturunuz. Kullanıcıdan döngü yardımıyla 3 öğrenci için veri girmesini isteyerek öğrencilerin sırasıyla okul numarası, isim, soy isim, telefon numarası ve doğum tarihi bilgilerini alınız. Aldığınız öğrenci bilgilerini yine aynı döngü yardımıyla `ogrenciler` adındaki sözlükte saklayınız. Daha sonra öğrenci bilgilerinin bulunduğu sözlük yapısını ekrana bastırınız.\n",
    "\n"
   ]
  },
  {
   "cell_type": "code",
   "execution_count": 55,
   "metadata": {},
   "outputs": [
    {
     "name": "stdout",
     "output_type": "stream",
     "text": [
      "4:{'Okul Numarası': '28841', 'İsim': 'halime', 'Soyisim': 'koç', 'Telefon Numarası': '0538 892 8550', 'Doğum Tarihi': '03.05.2001'}\n"
     ]
    }
   ],
   "source": [
    "ogrenciler= {}\n",
    "for i in (1,4):\n",
    "    okulNumarası =input(\"Okul numaranızı giriniz: \")\n",
    "    isim= input(\"İsminizi giriniz: \")\n",
    "    soyIsim=input(\"Soyisminizi giriniz: \")\n",
    "    telefonNumarası= input(\"Telefon numaranızı giriniz: \")\n",
    "    dogumTarihi= input(\"Doğum tarihinizi giriniz: \")\n",
    "ogrenciler[i]={\"Okul Numarası\":okulNumarası, \"İsim\": isim, \"Soyisim\": soyIsim, \"Telefon Numarası\": telefonNumarası, \"Doğum Tarihi\": dogumTarihi}\n",
    "\n",
    "print(f\"{i}:{ogrenciler[i]}\")"
   ]
  },
  {
   "cell_type": "markdown",
   "metadata": {},
   "source": [
    "# Problem 2\n",
    "\n",
    "### a - Biraz ısınarak başlayalım!\n",
    "\n",
    "```\n",
    "numbers = [5,10,10,15,15,15,20,20,20,20]\n",
    "```\n",
    "\n",
    "Yukarıda `numbers` adında 10 elemanlı bir liste verilmiştir. Bu listenin her elemanını kontrol eden ve tekrar eden elemanları bir kez olacak şekilde başka bir listeye kopyalayan bir program yazınız. Son olarak oluşturduğunuz listeyi ekrana bastırınız.\n",
    "\n",
    "\n",
    "\n",
    "\n",
    "```\n",
    ">Output\n",
    "[5, 10, 15, 20]\n",
    "```\n"
   ]
  },
  {
   "cell_type": "code",
   "execution_count": 3,
   "metadata": {},
   "outputs": [
    {
     "name": "stdout",
     "output_type": "stream",
     "text": [
      "[5, 10, 15, 20]\n"
     ]
    }
   ],
   "source": [
    "numbers = [5,10,10,15,15,15,20,20,20,20]\n",
    "liste = []\n",
    "for i in numbers:\n",
    "    if i in liste:\n",
    "        continue\n",
    "    else:\n",
    "        liste.append(i)\n",
    "print(liste)\n"
   ]
  },
  {
   "cell_type": "markdown",
   "metadata": {},
   "source": [
    "### 🌶️ b) Hadi işi biraz daha zorlaştıralım! \n",
    "\n",
    "\n",
    "Şimdiyse senden `numbers` isimli listedeki tekrar eden elemanları `repeatNumbers` adındaki listeye; tekrar etmeyen elemanları `uniqueNumbers`adındaki listeye kopyalayan yazmanı ve listeleri ekrana bastırmanı bekliyoruz\n",
    "\n",
    "```\n",
    ">Output\n",
    "Tekrar Eden Elemanlar: [10, 10, 15, 15, 15, 20, 20, 20, 20]\n",
    "Tekrar Etmeyen Elemanlar: [5]\n",
    "```"
   ]
  },
  {
   "cell_type": "code",
   "execution_count": 5,
   "metadata": {},
   "outputs": [
    {
     "name": "stdout",
     "output_type": "stream",
     "text": [
      "Tekrar edenler: [10, 10, 15, 15, 15, 20, 20, 20, 20]\n",
      "Tekrar etmeyenler: [5]\n"
     ]
    }
   ],
   "source": [
    "numbers= [5,10,10,15,15,15,20,20,20,20]\n",
    "tekrarEdenler= []\n",
    "tekrarEtmeyenler = []\n",
    "for i in numbers:\n",
    "    if numbers.count(i) ==1:\n",
    "        tekrarEtmeyenler.append(i)\n",
    "    else:\n",
    "        tekrarEdenler.append(i)\n",
    "print(\"Tekrar edenler:\", tekrarEdenler)\n",
    "print(\"Tekrar etmeyenler:\", tekrarEtmeyenler)"
   ]
  },
  {
   "cell_type": "markdown",
   "metadata": {},
   "source": [
    "# Problem 3\n",
    "sn1 = {1,2,3,4,5}\n",
    "\n",
    "sn2 = {4,5,6,7,8}\n",
    "\n",
    " Verilen 2 adet küme için kesişimlerini, farklarını ve birleşimlerini bulunuz. "
   ]
  },
  {
   "cell_type": "code",
   "execution_count": 9,
   "metadata": {},
   "outputs": [
    {
     "name": "stdout",
     "output_type": "stream",
     "text": [
      "{4, 5}\n",
      "{1, 2, 3} {8, 6, 7}\n",
      "{1, 2, 3, 4, 5, 6, 7, 8}\n"
     ]
    }
   ],
   "source": [
    "sn1 = {1,2,3,4,5}\n",
    "sn2= {4,5,6,7,8}\n",
    "kesisim= sn1.intersection(sn2)\n",
    "fark1= sn1.difference(sn2)\n",
    "fark2 = sn2.difference(sn1)\n",
    "birlesim= sn1.union(sn2)\n",
    "print(kesisim)\n",
    "print(fark1, \"\\n\" ,fark2)\n",
    "print(birlesim)"
   ]
  },
  {
   "cell_type": "markdown",
   "metadata": {},
   "source": [
    "# Problem 4\n",
    "\n",
    "Buradaki işlemlerimizin tamamı stringler içindir. Aşağıda verilecek olan metodlar için kendinizin örnek yaratması gerekmektedir. \n",
    "\n",
    "Örneğin `upper` için `string` değişkeni oluştururken` k = \"BAC\"` şeklinde oluşturmayınız. Bunun yerine k değişkenini `k = \"bac`\" şeklinde oluşturmanız `upper` metodundaki değişimi görebilmeniz için daha iyi olacaktır.\n",
    "\n",
    "Bütün metodlardaki değişimin gözle görülür şekilde değişimi beklenmektedir.\n",
    "\n",
    "\n",
    "1- capitalize(), lower(), upper(), swapcase(), title(), replace()\n",
    "\n",
    "2- endswith(), startswith(), find(), index(), count()\n",
    "\n",
    "3- split(), strip(), join(), islower(), isalpha(), isdigit()\n",
    "\n",
    "\n",
    "Yukarıdaki `string` metodlarındaki değişimleri görebildiğimiz bir program yazınız.\n"
   ]
  },
  {
   "cell_type": "code",
   "execution_count": 48,
   "metadata": {},
   "outputs": [
    {
     "name": "stdout",
     "output_type": "stream",
     "text": [
      "Merhaba\n",
      "merhaba\n",
      "MERHABA\n",
      "tRi̇PKoli̇c\n",
      "Merhabalar, Ben Halime Koç.\n",
      "merhabalar, ben Haseki Halime Sultan.\n",
      "True\n",
      "False\n",
      "0\n",
      "16\n",
      "4\n",
      "['merhabalar', ' ben halime koç.']\n",
      "['merhabalar,', 'ben', 'halime', 'koç.']\n",
      "merhaba\n",
      "!\n",
      "False\n",
      "True\n",
      "False\n"
     ]
    }
   ],
   "source": [
    "m= \"merhaba\"\n",
    "m2= \"MERHABA\"\n",
    "m3= \"merhaba\"\n",
    "t= \"TrİpkOLİC\"\n",
    "m4= \"merhabalar, ben halime koç.\"\n",
    "m5= \" merhaba   \"\n",
    "\n",
    "\n",
    "\n",
    "print(m.capitalize())\n",
    "print(m2.lower())\n",
    "print(m3.upper())\n",
    "print(t.swapcase())\n",
    "print(m4.title())\n",
    "print(m4.replace(\"halime koç\", \"Haseki Halime Sultan\"))\n",
    "print(m.endswith(\"a\"))\n",
    "print(m2.startswith(\"m\"))\n",
    "print(m3.find(\"m\"))\n",
    "print(m4.index(\"halime\"))\n",
    "print(m4.count(\"a\"))\n",
    "print(m4.split(\",\"))\n",
    "print(m4.split(\" \"))\n",
    "print(m5.strip())\n",
    "m2= m2.join(\"!\")\n",
    "print(m2)\n",
    "print(m2.islower())\n",
    "print(m.isalpha())\n",
    "print(m3.isdigit())\n",
    "\n",
    "\n",
    "\n",
    "\n",
    "\n"
   ]
  }
 ],
 "metadata": {
  "kernelspec": {
   "display_name": "Python 3.10.5 64-bit",
   "language": "python",
   "name": "python3"
  },
  "language_info": {
   "codemirror_mode": {
    "name": "ipython",
    "version": 3
   },
   "file_extension": ".py",
   "mimetype": "text/x-python",
   "name": "python",
   "nbconvert_exporter": "python",
   "pygments_lexer": "ipython3",
   "version": "3.11.1"
  },
  "orig_nbformat": 4,
  "vscode": {
   "interpreter": {
    "hash": "5026d2d6e7aaaaba093def813beadff083d8733e4a511af01735cbabd156995d"
   }
  }
 },
 "nbformat": 4,
 "nbformat_minor": 2
}
