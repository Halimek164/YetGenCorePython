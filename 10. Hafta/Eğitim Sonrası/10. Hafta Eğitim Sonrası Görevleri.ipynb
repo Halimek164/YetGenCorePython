{
 "cells": [
  {
   "attachments": {},
   "cell_type": "markdown",
   "metadata": {},
   "source": [
    "# Problem 1 "
   ]
  },
  {
   "cell_type": "code",
   "execution_count": 3,
   "metadata": {},
   "outputs": [
    {
     "name": "stdout",
     "output_type": "stream",
     "text": [
      "[  6  25  45  54 244]\n"
     ]
    }
   ],
   "source": [
    "# 1 - numpy kütüphanesini import edin\n",
    "import numpy as np\n",
    "# 2 - 5 elemanlı bir numpy array oluşturun\n",
    "array = np.array([45, 6, 54, 244, 25])\n",
    "# 3 - Oluşturduğunuz arrayi küçükten büyüğe sıralayın.\n",
    "array.sort()\n",
    "print(array)"
   ]
  },
  {
   "attachments": {},
   "cell_type": "markdown",
   "metadata": {},
   "source": [
    "# Problem 2"
   ]
  },
  {
   "cell_type": "code",
   "execution_count": 6,
   "metadata": {},
   "outputs": [
    {
     "name": "stdout",
     "output_type": "stream",
     "text": [
      "Sayılar arrayi:  [10 15 30 45 60]\n",
      "Sayılar2 arrayi:  [ 5  6  7  8  9 10 11 12 13 14 15] \n",
      "\n",
      "Sayılar2 arrayi:  [50 55 60 65 70 75 80 85 90 95] \n",
      "\n",
      "Sayılar4 arrayi:  [0. 0. 0. 0. 0. 0. 0. 0. 0. 0.] \n",
      "\n",
      "Sayılar5 arrayi:  [1. 1. 1. 1. 1. 1. 1. 1.] \n",
      "\n",
      "Sayılar6 arrayi:  [  0.           2.04081633   4.08163265   6.12244898   8.16326531\n",
      "  10.20408163  12.24489796  14.28571429  16.32653061  18.36734694\n",
      "  20.40816327  22.44897959  24.48979592  26.53061224  28.57142857\n",
      "  30.6122449   32.65306122  34.69387755  36.73469388  38.7755102\n",
      "  40.81632653  42.85714286  44.89795918  46.93877551  48.97959184\n",
      "  51.02040816  53.06122449  55.10204082  57.14285714  59.18367347\n",
      "  61.2244898   63.26530612  65.30612245  67.34693878  69.3877551\n",
      "  71.42857143  73.46938776  75.51020408  77.55102041  79.59183673\n",
      "  81.63265306  83.67346939  85.71428571  87.75510204  89.79591837\n",
      "  91.83673469  93.87755102  95.91836735  97.95918367 100.        ] \n",
      "\n",
      "Random Sayılar:  [29 16 28 26 16] \n",
      "\n",
      "Random Sayılar:  [-0.68498549  0.3825967  -0.39693976  0.67043676 -0.41929343 -0.07430923\n",
      "  0.57845166  0.70104474 -0.86130309  0.88841994] \n",
      "\n",
      "3*5 Matrisi:  [[39 49 45 37 15]\n",
      " [39 29 24 45 33]\n",
      " [19 33 47 33 35]] \n",
      "\n",
      "[ 97 111 116 115  83]\n",
      "[185 170 167]\n",
      "49\n",
      "15\n",
      "34.8\n",
      "12. soru:  1\n",
      "13.soru: [13 16 11]\n",
      "[13 16 11 11 17 17 11 14 13]\n",
      "14.soru:  [13 14 11 17 17 11 11 16 13]\n",
      "[39 49 45 37 15] \n",
      "\n",
      "[[39 49 45 37 15]\n",
      " [39 29 24 45 33]\n",
      " [19 33 47 33 35]]\n",
      "24\n",
      "[39 39 19]\n",
      "[[39 49 45 37 15]\n",
      " [39 29 24 45 33]\n",
      " [19 33 47 33 35]] \n",
      "\n",
      "[[1521 2401 2025 1369  225]\n",
      " [1521  841  576 2025 1089]\n",
      " [ 361 1089 2209 1089 1225]]\n",
      "[34 26 22 30 12]\n"
     ]
    }
   ],
   "source": [
    "# 1- (10,15,30,45,60) değerlerine sahip numpy dizisi oluşturunuz.\n",
    "sayilar = np.array([10,15,30,45,60])\n",
    "print(\"Sayılar arrayi: \", sayilar)\n",
    "# 2- (5-15) arasındaki sayılarla numpy dizisi oluşturunuz.\n",
    "sayilar2= np.arange(5,16)\n",
    "print(\"Sayılar2 arrayi: \", sayilar2, \"\\n\")\n",
    "# 3- (50-100) arasında 5'er 5'er artarak numpy dizisi oluşturunuz.\n",
    "sayilar3= np.arange(50,100,5)\n",
    "print(\"Sayılar2 arrayi: \", sayilar3, \"\\n\")\n",
    "# 4- 10 elemanlı sıfırlardan oluşan bir dizi oluşturunuz.\n",
    "sayilar4= np.zeros(10)\n",
    "print(\"Sayılar4 arrayi: \", sayilar4, \"\\n\")\n",
    "# 5- 10 elemanlı birlerden oluşan bir dizi oluşturunuz.\n",
    "sayilar5= np.ones(8)\n",
    "print(\"Sayılar5 arrayi: \", sayilar5, \"\\n\")\n",
    "# 6- (0-100) arasında eşit aralıklı 5 sayı üretin.\n",
    "sayilar6= np.linspace(0,100)\n",
    "print(\"Sayılar6 arrayi: \", sayilar6, \"\\n\")\n",
    "# 7- (10-30) arasında rastgele 5 tane tamsayı üretin.\n",
    "random_sayilar= np.random.randint(10,31,size=5) \n",
    "print(\"Random Sayılar: \", random_sayilar, \"\\n\")\n",
    "# 8- [-1 ile 1] arasında 10 adet sayı üretin.\n",
    "random_sayilar2= np.random.uniform(-1,1, size=10)\n",
    "print(\"Random Sayılar: \", random_sayilar2, \"\\n\")\n",
    "# 9- (3x5) boyutlarında (10-50) arasında rastgele bir matris oluşturunuz.\n",
    "random_sayilar3= np.random.randint(10,50, size=(3,5))\n",
    "print(\"3*5 Matrisi: \", random_sayilar3, \"\\n\")\n",
    "# 10- Üretilen matrisin satır ve sütun sayıları toplamlarını hesaplayınız ?\n",
    "print(random_sayilar3.sum(axis=0))\n",
    "print(random_sayilar3.sum(axis=1))\n",
    "# 11- Üretilen matrisin en büyük, en küçük ve ortalaması nedir ?\n",
    "print(random_sayilar3.max())\n",
    "print(random_sayilar3.min())\n",
    "print(random_sayilar3.mean())\n",
    "# 12- Üretilen matrisin en büyük değerinin indeksi kaçtır ?\n",
    "print(\"12. soru: \", random_sayilar3.argmax())\n",
    "# 13- (10-20) arasındaki sayıları içeren dizinin ilk 3 elemanını seçiniz.\n",
    "random_sayilar4= np.random.randint(10,20, size= 9)\n",
    "print(\"13.soru:\" , random_sayilar4[:3])\n",
    "# 14- Üretilen dizinin elemanlarını tersten yazdırın.\n",
    "print(random_sayilar4)\n",
    "print(\"14.soru: \",random_sayilar4[::-1])\n",
    "# 15- Üretilen matrisin ilk satırını seçiniz.\n",
    "print(random_sayilar3[0], \"\\n\")\n",
    "# 16- Üretilen matrisin 2.satır 3.sütundaki elemanı hangisidir ?\n",
    "print(random_sayilar3)\n",
    "print(random_sayilar3[1][2])\n",
    "# 17- Üretilen matrisin tüm satırlardaki ilk elemanı seçiniz.\n",
    "print(random_sayilar3[:,0])\n",
    "# 18- Üretilen matrisin her bir elemanının karesini alınız.\n",
    "print(random_sayilar3, \"\\n\")\n",
    "print(random_sayilar3**2)\n",
    "# 19- Üretilen matris elemanlarının hangisi pozitif çift sayıdır ? Aralığı (-50,+50) arasında yapınız.\n",
    "\n",
    "random_sayilar5= np.random.randint(-50,50, size=4*5)\n",
    "print(random_sayilar5[(random_sayilar5 % 2 ==0) & (random_sayilar5 > 0)])\n"
   ]
  }
 ],
 "metadata": {
  "kernelspec": {
   "display_name": "Python 3",
   "language": "python",
   "name": "python3"
  },
  "language_info": {
   "codemirror_mode": {
    "name": "ipython",
    "version": 3
   },
   "file_extension": ".py",
   "mimetype": "text/x-python",
   "name": "python",
   "nbconvert_exporter": "python",
   "pygments_lexer": "ipython3",
   "version": "3.11.1"
  },
  "orig_nbformat": 4,
  "vscode": {
   "interpreter": {
    "hash": "5026d2d6e7aaaaba093def813beadff083d8733e4a511af01735cbabd156995d"
   }
  }
 },
 "nbformat": 4,
 "nbformat_minor": 2
}
